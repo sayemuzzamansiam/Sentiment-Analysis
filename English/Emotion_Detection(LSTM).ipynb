{
  "cells": [
    {
      "cell_type": "code",
      "execution_count": 1,
      "metadata": {
        "colab": {
          "base_uri": "https://localhost:8080/"
        },
        "id": "_6ywPWspy66D",
        "outputId": "693e78f6-10ed-4c38-c963-5b8b1fe8c503"
      },
      "outputs": [
        {
          "name": "stdout",
          "output_type": "stream",
          "text": [
            "Mounted at /content/drive\n"
          ]
        }
      ],
      "source": [
        "from google.colab import drive\n",
        "drive.mount('/content/drive')"
      ]
    },
    {
      "cell_type": "code",
      "execution_count": 25,
      "metadata": {
        "id": "0nuWd3hzzYQD"
      },
      "outputs": [],
      "source": [
        "import pandas as pd\n",
        "import random\n",
        "import matplotlib.pyplot as plt\n",
        "import seaborn as sns\n",
        "from collections import Counter\n",
        "from wordcloud import WordCloud\n",
        "from nltk.stem import PorterStemmer\n",
        "import numpy as np\n",
        "from keras.utils import to_categorical\n",
        "from sklearn.metrics import confusion_matrix\n",
        "\n",
        "import tensorflow as tf\n",
        "from tensorflow.keras.preprocessing.text import Tokenizer\n",
        "from tensorflow.keras.preprocessing.sequence import pad_sequences\n",
        "from tensorflow.keras.layers import Embedding, LSTM, Dense,Dropout, Bidirectional\n",
        "from tensorflow.keras.preprocessing.text import Tokenizer\n",
        "from tensorflow.keras.models import Sequential\n",
        "from tensorflow.keras.optimizers import Adam\n",
        "from tensorflow.keras.regularizers import l2"
      ]
    },
    {
      "cell_type": "code",
      "execution_count": 3,
      "metadata": {
        "id": "lOhwsfQ6zb2g"
      },
      "outputs": [],
      "source": [
        "val_data = pd.read_csv('/content/drive/MyDrive/Colab Notebooks/ML/Val.csv')\n",
        "train_data = pd.read_csv('/content/drive/MyDrive/Colab Notebooks/ML/Train.csv')\n",
        "test_data = pd.read_csv('/content/drive/MyDrive/Colab Notebooks/ML/Test.csv')"
      ]
    },
    {
      "cell_type": "code",
      "execution_count": 4,
      "metadata": {
        "colab": {
          "base_uri": "https://localhost:8080/"
        },
        "id": "WGew1yl7zuKq",
        "outputId": "1d872119-f787-4185-d5c1-13969ad6a76c"
      },
      "outputs": [
        {
          "name": "stdout",
          "output_type": "stream",
          "text": [
            "Validation data : (8280, 3)\n",
            "Train data : (56869, 3)\n",
            "Test data : (7085, 2)\n"
          ]
        }
      ],
      "source": [
        "print(\"Validation data :\",val_data.shape)\n",
        "print(\"Train data :\",train_data.shape)\n",
        "print(\"Test data :\",test_data.shape)"
      ]
    },
    {
      "cell_type": "code",
      "execution_count": 5,
      "metadata": {
        "colab": {
          "base_uri": "https://localhost:8080/",
          "height": 350
        },
        "id": "O38u8LAUz1JA",
        "outputId": "6919fa22-372c-4d59-b4af-09bf8a65b2c3"
      },
      "outputs": [
        {
          "data": {
            "application/vnd.google.colaboratory.intrinsic+json": {
              "summary": "{\n  \"name\": \"train_data\",\n  \"rows\": 56869,\n  \"fields\": [\n    {\n      \"column\": \"text\",\n      \"properties\": {\n        \"dtype\": \"string\",\n        \"num_unique_values\": 43394,\n        \"samples\": [\n          \"Can't tell how cold it is if the battery is completely dead. RollSafeMeme.jpeg\",\n          \"ive been coughing for the past few days now and my stomach muscles are definitely feeling rather tender the sore throat is a new development as is the runny nose\",\n          \"I will be definitely doing this now. We have a meeting next week, so I will be sure to bring this up. Thanks!\"\n        ],\n        \"semantic_type\": \"\",\n        \"description\": \"\"\n      }\n    },\n    {\n      \"column\": \"label\",\n      \"properties\": {\n        \"dtype\": \"number\",\n        \"std\": 3,\n        \"min\": 0,\n        \"max\": 9,\n        \"num_unique_values\": 10,\n        \"samples\": [\n          2,\n          5,\n          4\n        ],\n        \"semantic_type\": \"\",\n        \"description\": \"\"\n      }\n    },\n    {\n      \"column\": \"label_name\",\n      \"properties\": {\n        \"dtype\": \"category\",\n        \"num_unique_values\": 10,\n        \"samples\": [\n          \"love\",\n          \"surprise\",\n          \"fear\"\n        ],\n        \"semantic_type\": \"\",\n        \"description\": \"\"\n      }\n    }\n  ]\n}",
              "type": "dataframe",
              "variable_name": "train_data"
            },
            "text/html": [
              "\n",
              "  <div id=\"df-6e4a3d48-0dc1-4532-97be-fa1c2e210f5d\" class=\"colab-df-container\">\n",
              "    <div>\n",
              "<style scoped>\n",
              "    .dataframe tbody tr th:only-of-type {\n",
              "        vertical-align: middle;\n",
              "    }\n",
              "\n",
              "    .dataframe tbody tr th {\n",
              "        vertical-align: top;\n",
              "    }\n",
              "\n",
              "    .dataframe thead th {\n",
              "        text-align: right;\n",
              "    }\n",
              "</style>\n",
              "<table border=\"1\" class=\"dataframe\">\n",
              "  <thead>\n",
              "    <tr style=\"text-align: right;\">\n",
              "      <th></th>\n",
              "      <th>text</th>\n",
              "      <th>label</th>\n",
              "      <th>label_name</th>\n",
              "    </tr>\n",
              "  </thead>\n",
              "  <tbody>\n",
              "    <tr>\n",
              "      <th>0</th>\n",
              "      <td>It doesn't really matter because since BF came...</td>\n",
              "      <td>3</td>\n",
              "      <td>anger</td>\n",
              "    </tr>\n",
              "    <tr>\n",
              "      <th>1</th>\n",
              "      <td>Sometimes, I am amazed that they are able to f...</td>\n",
              "      <td>5</td>\n",
              "      <td>surprise</td>\n",
              "    </tr>\n",
              "    <tr>\n",
              "      <th>2</th>\n",
              "      <td>IM GONNA PASS OUT</td>\n",
              "      <td>8</td>\n",
              "      <td>optimism</td>\n",
              "    </tr>\n",
              "    <tr>\n",
              "      <th>3</th>\n",
              "      <td>🎵 I review you 👏👏 zero bye bitch gone 🎵</td>\n",
              "      <td>0</td>\n",
              "      <td>sadness</td>\n",
              "    </tr>\n",
              "    <tr>\n",
              "      <th>4</th>\n",
              "      <td>No I didn't. PM me your username here and I'll...</td>\n",
              "      <td>9</td>\n",
              "      <td>approval</td>\n",
              "    </tr>\n",
              "    <tr>\n",
              "      <th>5</th>\n",
              "      <td>i think i feel stressed</td>\n",
              "      <td>0</td>\n",
              "      <td>sadness</td>\n",
              "    </tr>\n",
              "    <tr>\n",
              "      <th>6</th>\n",
              "      <td>im so stoned on endorphin that all i can feel ...</td>\n",
              "      <td>4</td>\n",
              "      <td>fear</td>\n",
              "    </tr>\n",
              "    <tr>\n",
              "      <th>7</th>\n",
              "      <td>Lol “this is my opinion and it is very true.” ...</td>\n",
              "      <td>7</td>\n",
              "      <td>confusion</td>\n",
              "    </tr>\n",
              "    <tr>\n",
              "      <th>8</th>\n",
              "      <td>I hope you can get some relief soon, I can’t i...</td>\n",
              "      <td>4</td>\n",
              "      <td>fear</td>\n",
              "    </tr>\n",
              "    <tr>\n",
              "      <th>9</th>\n",
              "      <td>&gt; [NAME] mother allegedly vandalized [NAME] gr...</td>\n",
              "      <td>3</td>\n",
              "      <td>anger</td>\n",
              "    </tr>\n",
              "  </tbody>\n",
              "</table>\n",
              "</div>\n",
              "    <div class=\"colab-df-buttons\">\n",
              "\n",
              "  <div class=\"colab-df-container\">\n",
              "    <button class=\"colab-df-convert\" onclick=\"convertToInteractive('df-6e4a3d48-0dc1-4532-97be-fa1c2e210f5d')\"\n",
              "            title=\"Convert this dataframe to an interactive table.\"\n",
              "            style=\"display:none;\">\n",
              "\n",
              "  <svg xmlns=\"http://www.w3.org/2000/svg\" height=\"24px\" viewBox=\"0 -960 960 960\">\n",
              "    <path d=\"M120-120v-720h720v720H120Zm60-500h600v-160H180v160Zm220 220h160v-160H400v160Zm0 220h160v-160H400v160ZM180-400h160v-160H180v160Zm440 0h160v-160H620v160ZM180-180h160v-160H180v160Zm440 0h160v-160H620v160Z\"/>\n",
              "  </svg>\n",
              "    </button>\n",
              "\n",
              "  <style>\n",
              "    .colab-df-container {\n",
              "      display:flex;\n",
              "      gap: 12px;\n",
              "    }\n",
              "\n",
              "    .colab-df-convert {\n",
              "      background-color: #E8F0FE;\n",
              "      border: none;\n",
              "      border-radius: 50%;\n",
              "      cursor: pointer;\n",
              "      display: none;\n",
              "      fill: #1967D2;\n",
              "      height: 32px;\n",
              "      padding: 0 0 0 0;\n",
              "      width: 32px;\n",
              "    }\n",
              "\n",
              "    .colab-df-convert:hover {\n",
              "      background-color: #E2EBFA;\n",
              "      box-shadow: 0px 1px 2px rgba(60, 64, 67, 0.3), 0px 1px 3px 1px rgba(60, 64, 67, 0.15);\n",
              "      fill: #174EA6;\n",
              "    }\n",
              "\n",
              "    .colab-df-buttons div {\n",
              "      margin-bottom: 4px;\n",
              "    }\n",
              "\n",
              "    [theme=dark] .colab-df-convert {\n",
              "      background-color: #3B4455;\n",
              "      fill: #D2E3FC;\n",
              "    }\n",
              "\n",
              "    [theme=dark] .colab-df-convert:hover {\n",
              "      background-color: #434B5C;\n",
              "      box-shadow: 0px 1px 3px 1px rgba(0, 0, 0, 0.15);\n",
              "      filter: drop-shadow(0px 1px 2px rgba(0, 0, 0, 0.3));\n",
              "      fill: #FFFFFF;\n",
              "    }\n",
              "  </style>\n",
              "\n",
              "    <script>\n",
              "      const buttonEl =\n",
              "        document.querySelector('#df-6e4a3d48-0dc1-4532-97be-fa1c2e210f5d button.colab-df-convert');\n",
              "      buttonEl.style.display =\n",
              "        google.colab.kernel.accessAllowed ? 'block' : 'none';\n",
              "\n",
              "      async function convertToInteractive(key) {\n",
              "        const element = document.querySelector('#df-6e4a3d48-0dc1-4532-97be-fa1c2e210f5d');\n",
              "        const dataTable =\n",
              "          await google.colab.kernel.invokeFunction('convertToInteractive',\n",
              "                                                    [key], {});\n",
              "        if (!dataTable) return;\n",
              "\n",
              "        const docLinkHtml = 'Like what you see? Visit the ' +\n",
              "          '<a target=\"_blank\" href=https://colab.research.google.com/notebooks/data_table.ipynb>data table notebook</a>'\n",
              "          + ' to learn more about interactive tables.';\n",
              "        element.innerHTML = '';\n",
              "        dataTable['output_type'] = 'display_data';\n",
              "        await google.colab.output.renderOutput(dataTable, element);\n",
              "        const docLink = document.createElement('div');\n",
              "        docLink.innerHTML = docLinkHtml;\n",
              "        element.appendChild(docLink);\n",
              "      }\n",
              "    </script>\n",
              "  </div>\n",
              "\n",
              "\n",
              "<div id=\"df-c43f057a-9692-4051-94d3-ee78df74e0b4\">\n",
              "  <button class=\"colab-df-quickchart\" onclick=\"quickchart('df-c43f057a-9692-4051-94d3-ee78df74e0b4')\"\n",
              "            title=\"Suggest charts\"\n",
              "            style=\"display:none;\">\n",
              "\n",
              "<svg xmlns=\"http://www.w3.org/2000/svg\" height=\"24px\"viewBox=\"0 0 24 24\"\n",
              "     width=\"24px\">\n",
              "    <g>\n",
              "        <path d=\"M19 3H5c-1.1 0-2 .9-2 2v14c0 1.1.9 2 2 2h14c1.1 0 2-.9 2-2V5c0-1.1-.9-2-2-2zM9 17H7v-7h2v7zm4 0h-2V7h2v10zm4 0h-2v-4h2v4z\"/>\n",
              "    </g>\n",
              "</svg>\n",
              "  </button>\n",
              "\n",
              "<style>\n",
              "  .colab-df-quickchart {\n",
              "      --bg-color: #E8F0FE;\n",
              "      --fill-color: #1967D2;\n",
              "      --hover-bg-color: #E2EBFA;\n",
              "      --hover-fill-color: #174EA6;\n",
              "      --disabled-fill-color: #AAA;\n",
              "      --disabled-bg-color: #DDD;\n",
              "  }\n",
              "\n",
              "  [theme=dark] .colab-df-quickchart {\n",
              "      --bg-color: #3B4455;\n",
              "      --fill-color: #D2E3FC;\n",
              "      --hover-bg-color: #434B5C;\n",
              "      --hover-fill-color: #FFFFFF;\n",
              "      --disabled-bg-color: #3B4455;\n",
              "      --disabled-fill-color: #666;\n",
              "  }\n",
              "\n",
              "  .colab-df-quickchart {\n",
              "    background-color: var(--bg-color);\n",
              "    border: none;\n",
              "    border-radius: 50%;\n",
              "    cursor: pointer;\n",
              "    display: none;\n",
              "    fill: var(--fill-color);\n",
              "    height: 32px;\n",
              "    padding: 0;\n",
              "    width: 32px;\n",
              "  }\n",
              "\n",
              "  .colab-df-quickchart:hover {\n",
              "    background-color: var(--hover-bg-color);\n",
              "    box-shadow: 0 1px 2px rgba(60, 64, 67, 0.3), 0 1px 3px 1px rgba(60, 64, 67, 0.15);\n",
              "    fill: var(--button-hover-fill-color);\n",
              "  }\n",
              "\n",
              "  .colab-df-quickchart-complete:disabled,\n",
              "  .colab-df-quickchart-complete:disabled:hover {\n",
              "    background-color: var(--disabled-bg-color);\n",
              "    fill: var(--disabled-fill-color);\n",
              "    box-shadow: none;\n",
              "  }\n",
              "\n",
              "  .colab-df-spinner {\n",
              "    border: 2px solid var(--fill-color);\n",
              "    border-color: transparent;\n",
              "    border-bottom-color: var(--fill-color);\n",
              "    animation:\n",
              "      spin 1s steps(1) infinite;\n",
              "  }\n",
              "\n",
              "  @keyframes spin {\n",
              "    0% {\n",
              "      border-color: transparent;\n",
              "      border-bottom-color: var(--fill-color);\n",
              "      border-left-color: var(--fill-color);\n",
              "    }\n",
              "    20% {\n",
              "      border-color: transparent;\n",
              "      border-left-color: var(--fill-color);\n",
              "      border-top-color: var(--fill-color);\n",
              "    }\n",
              "    30% {\n",
              "      border-color: transparent;\n",
              "      border-left-color: var(--fill-color);\n",
              "      border-top-color: var(--fill-color);\n",
              "      border-right-color: var(--fill-color);\n",
              "    }\n",
              "    40% {\n",
              "      border-color: transparent;\n",
              "      border-right-color: var(--fill-color);\n",
              "      border-top-color: var(--fill-color);\n",
              "    }\n",
              "    60% {\n",
              "      border-color: transparent;\n",
              "      border-right-color: var(--fill-color);\n",
              "    }\n",
              "    80% {\n",
              "      border-color: transparent;\n",
              "      border-right-color: var(--fill-color);\n",
              "      border-bottom-color: var(--fill-color);\n",
              "    }\n",
              "    90% {\n",
              "      border-color: transparent;\n",
              "      border-bottom-color: var(--fill-color);\n",
              "    }\n",
              "  }\n",
              "</style>\n",
              "\n",
              "  <script>\n",
              "    async function quickchart(key) {\n",
              "      const quickchartButtonEl =\n",
              "        document.querySelector('#' + key + ' button');\n",
              "      quickchartButtonEl.disabled = true;  // To prevent multiple clicks.\n",
              "      quickchartButtonEl.classList.add('colab-df-spinner');\n",
              "      try {\n",
              "        const charts = await google.colab.kernel.invokeFunction(\n",
              "            'suggestCharts', [key], {});\n",
              "      } catch (error) {\n",
              "        console.error('Error during call to suggestCharts:', error);\n",
              "      }\n",
              "      quickchartButtonEl.classList.remove('colab-df-spinner');\n",
              "      quickchartButtonEl.classList.add('colab-df-quickchart-complete');\n",
              "    }\n",
              "    (() => {\n",
              "      let quickchartButtonEl =\n",
              "        document.querySelector('#df-c43f057a-9692-4051-94d3-ee78df74e0b4 button');\n",
              "      quickchartButtonEl.style.display =\n",
              "        google.colab.kernel.accessAllowed ? 'block' : 'none';\n",
              "    })();\n",
              "  </script>\n",
              "</div>\n",
              "\n",
              "    </div>\n",
              "  </div>\n"
            ],
            "text/plain": [
              "                                                text  label label_name\n",
              "0  It doesn't really matter because since BF came...      3      anger\n",
              "1  Sometimes, I am amazed that they are able to f...      5   surprise\n",
              "2                                  IM GONNA PASS OUT      8   optimism\n",
              "3            🎵 I review you 👏👏 zero bye bitch gone 🎵      0    sadness\n",
              "4  No I didn't. PM me your username here and I'll...      9   approval\n",
              "5                            i think i feel stressed      0    sadness\n",
              "6  im so stoned on endorphin that all i can feel ...      4       fear\n",
              "7  Lol “this is my opinion and it is very true.” ...      7  confusion\n",
              "8  I hope you can get some relief soon, I can’t i...      4       fear\n",
              "9  > [NAME] mother allegedly vandalized [NAME] gr...      3      anger"
            ]
          },
          "execution_count": 5,
          "metadata": {},
          "output_type": "execute_result"
        }
      ],
      "source": [
        "train_data.head(10)"
      ]
    },
    {
      "cell_type": "code",
      "execution_count": 6,
      "metadata": {
        "id": "1bag4m5U8xLc"
      },
      "outputs": [],
      "source": [
        "val_data.drop(columns=['label_name'],axis=1, inplace=True)"
      ]
    },
    {
      "cell_type": "code",
      "execution_count": 7,
      "metadata": {
        "colab": {
          "base_uri": "https://localhost:8080/",
          "height": 363
        },
        "id": "yG4RrRGt8lHk",
        "outputId": "0346cd15-a58a-4cbe-9ca9-fe9d54167f7b"
      },
      "outputs": [
        {
          "data": {
            "application/vnd.google.colaboratory.intrinsic+json": {
              "summary": "{\n  \"name\": \"val_data\",\n  \"rows\": 8280,\n  \"fields\": [\n    {\n      \"column\": \"text\",\n      \"properties\": {\n        \"dtype\": \"string\",\n        \"num_unique_values\": 7770,\n        \"samples\": [\n          \"Nah. Mine was wrapped around my neck and I am a gun loving medical student.\",\n          \"[NAME] no, these are horrid on anyone.\",\n          \"No biggie, dude, sorry I got all triggered, I just reeeally love [NAME] \"\n        ],\n        \"semantic_type\": \"\",\n        \"description\": \"\"\n      }\n    },\n    {\n      \"column\": \"label\",\n      \"properties\": {\n        \"dtype\": \"number\",\n        \"std\": 2,\n        \"min\": 0,\n        \"max\": 9,\n        \"num_unique_values\": 10,\n        \"samples\": [\n          4,\n          7,\n          8\n        ],\n        \"semantic_type\": \"\",\n        \"description\": \"\"\n      }\n    }\n  ]\n}",
              "type": "dataframe",
              "variable_name": "val_data"
            },
            "text/html": [
              "\n",
              "  <div id=\"df-ef1aa0cb-9027-40d9-88e6-7ecc99d22cb8\" class=\"colab-df-container\">\n",
              "    <div>\n",
              "<style scoped>\n",
              "    .dataframe tbody tr th:only-of-type {\n",
              "        vertical-align: middle;\n",
              "    }\n",
              "\n",
              "    .dataframe tbody tr th {\n",
              "        vertical-align: top;\n",
              "    }\n",
              "\n",
              "    .dataframe thead th {\n",
              "        text-align: right;\n",
              "    }\n",
              "</style>\n",
              "<table border=\"1\" class=\"dataframe\">\n",
              "  <thead>\n",
              "    <tr style=\"text-align: right;\">\n",
              "      <th></th>\n",
              "      <th>text</th>\n",
              "      <th>label</th>\n",
              "    </tr>\n",
              "  </thead>\n",
              "  <tbody>\n",
              "    <tr>\n",
              "      <th>0</th>\n",
              "      <td>i feel sure that were i placed into a spanish ...</td>\n",
              "      <td>1</td>\n",
              "    </tr>\n",
              "    <tr>\n",
              "      <th>1</th>\n",
              "      <td>i feel much more comfortable finding those peo...</td>\n",
              "      <td>1</td>\n",
              "    </tr>\n",
              "    <tr>\n",
              "      <th>2</th>\n",
              "      <td>Why do the religious think an omniscient god n...</td>\n",
              "      <td>7</td>\n",
              "    </tr>\n",
              "    <tr>\n",
              "      <th>3</th>\n",
              "      <td>happy cake day</td>\n",
              "      <td>5</td>\n",
              "    </tr>\n",
              "    <tr>\n",
              "      <th>4</th>\n",
              "      <td>FUCKING DIN!!!</td>\n",
              "      <td>3</td>\n",
              "    </tr>\n",
              "    <tr>\n",
              "      <th>5</th>\n",
              "      <td>Thank you for the advice. I was thinking it wa...</td>\n",
              "      <td>6</td>\n",
              "    </tr>\n",
              "    <tr>\n",
              "      <th>6</th>\n",
              "      <td>i feel like there s a reason to buy another to...</td>\n",
              "      <td>3</td>\n",
              "    </tr>\n",
              "    <tr>\n",
              "      <th>7</th>\n",
              "      <td>I tell myself that but when I’m at 90 I’m like...</td>\n",
              "      <td>8</td>\n",
              "    </tr>\n",
              "    <tr>\n",
              "      <th>8</th>\n",
              "      <td>Still, it’s legal weed. Sorry, sad [NAME] here..</td>\n",
              "      <td>6</td>\n",
              "    </tr>\n",
              "    <tr>\n",
              "      <th>9</th>\n",
              "      <td>If someone calls I will text them and say I ca...</td>\n",
              "      <td>8</td>\n",
              "    </tr>\n",
              "  </tbody>\n",
              "</table>\n",
              "</div>\n",
              "    <div class=\"colab-df-buttons\">\n",
              "\n",
              "  <div class=\"colab-df-container\">\n",
              "    <button class=\"colab-df-convert\" onclick=\"convertToInteractive('df-ef1aa0cb-9027-40d9-88e6-7ecc99d22cb8')\"\n",
              "            title=\"Convert this dataframe to an interactive table.\"\n",
              "            style=\"display:none;\">\n",
              "\n",
              "  <svg xmlns=\"http://www.w3.org/2000/svg\" height=\"24px\" viewBox=\"0 -960 960 960\">\n",
              "    <path d=\"M120-120v-720h720v720H120Zm60-500h600v-160H180v160Zm220 220h160v-160H400v160Zm0 220h160v-160H400v160ZM180-400h160v-160H180v160Zm440 0h160v-160H620v160ZM180-180h160v-160H180v160Zm440 0h160v-160H620v160Z\"/>\n",
              "  </svg>\n",
              "    </button>\n",
              "\n",
              "  <style>\n",
              "    .colab-df-container {\n",
              "      display:flex;\n",
              "      gap: 12px;\n",
              "    }\n",
              "\n",
              "    .colab-df-convert {\n",
              "      background-color: #E8F0FE;\n",
              "      border: none;\n",
              "      border-radius: 50%;\n",
              "      cursor: pointer;\n",
              "      display: none;\n",
              "      fill: #1967D2;\n",
              "      height: 32px;\n",
              "      padding: 0 0 0 0;\n",
              "      width: 32px;\n",
              "    }\n",
              "\n",
              "    .colab-df-convert:hover {\n",
              "      background-color: #E2EBFA;\n",
              "      box-shadow: 0px 1px 2px rgba(60, 64, 67, 0.3), 0px 1px 3px 1px rgba(60, 64, 67, 0.15);\n",
              "      fill: #174EA6;\n",
              "    }\n",
              "\n",
              "    .colab-df-buttons div {\n",
              "      margin-bottom: 4px;\n",
              "    }\n",
              "\n",
              "    [theme=dark] .colab-df-convert {\n",
              "      background-color: #3B4455;\n",
              "      fill: #D2E3FC;\n",
              "    }\n",
              "\n",
              "    [theme=dark] .colab-df-convert:hover {\n",
              "      background-color: #434B5C;\n",
              "      box-shadow: 0px 1px 3px 1px rgba(0, 0, 0, 0.15);\n",
              "      filter: drop-shadow(0px 1px 2px rgba(0, 0, 0, 0.3));\n",
              "      fill: #FFFFFF;\n",
              "    }\n",
              "  </style>\n",
              "\n",
              "    <script>\n",
              "      const buttonEl =\n",
              "        document.querySelector('#df-ef1aa0cb-9027-40d9-88e6-7ecc99d22cb8 button.colab-df-convert');\n",
              "      buttonEl.style.display =\n",
              "        google.colab.kernel.accessAllowed ? 'block' : 'none';\n",
              "\n",
              "      async function convertToInteractive(key) {\n",
              "        const element = document.querySelector('#df-ef1aa0cb-9027-40d9-88e6-7ecc99d22cb8');\n",
              "        const dataTable =\n",
              "          await google.colab.kernel.invokeFunction('convertToInteractive',\n",
              "                                                    [key], {});\n",
              "        if (!dataTable) return;\n",
              "\n",
              "        const docLinkHtml = 'Like what you see? Visit the ' +\n",
              "          '<a target=\"_blank\" href=https://colab.research.google.com/notebooks/data_table.ipynb>data table notebook</a>'\n",
              "          + ' to learn more about interactive tables.';\n",
              "        element.innerHTML = '';\n",
              "        dataTable['output_type'] = 'display_data';\n",
              "        await google.colab.output.renderOutput(dataTable, element);\n",
              "        const docLink = document.createElement('div');\n",
              "        docLink.innerHTML = docLinkHtml;\n",
              "        element.appendChild(docLink);\n",
              "      }\n",
              "    </script>\n",
              "  </div>\n",
              "\n",
              "\n",
              "<div id=\"df-fd6b05e1-42fd-4558-9fff-daae896ff178\">\n",
              "  <button class=\"colab-df-quickchart\" onclick=\"quickchart('df-fd6b05e1-42fd-4558-9fff-daae896ff178')\"\n",
              "            title=\"Suggest charts\"\n",
              "            style=\"display:none;\">\n",
              "\n",
              "<svg xmlns=\"http://www.w3.org/2000/svg\" height=\"24px\"viewBox=\"0 0 24 24\"\n",
              "     width=\"24px\">\n",
              "    <g>\n",
              "        <path d=\"M19 3H5c-1.1 0-2 .9-2 2v14c0 1.1.9 2 2 2h14c1.1 0 2-.9 2-2V5c0-1.1-.9-2-2-2zM9 17H7v-7h2v7zm4 0h-2V7h2v10zm4 0h-2v-4h2v4z\"/>\n",
              "    </g>\n",
              "</svg>\n",
              "  </button>\n",
              "\n",
              "<style>\n",
              "  .colab-df-quickchart {\n",
              "      --bg-color: #E8F0FE;\n",
              "      --fill-color: #1967D2;\n",
              "      --hover-bg-color: #E2EBFA;\n",
              "      --hover-fill-color: #174EA6;\n",
              "      --disabled-fill-color: #AAA;\n",
              "      --disabled-bg-color: #DDD;\n",
              "  }\n",
              "\n",
              "  [theme=dark] .colab-df-quickchart {\n",
              "      --bg-color: #3B4455;\n",
              "      --fill-color: #D2E3FC;\n",
              "      --hover-bg-color: #434B5C;\n",
              "      --hover-fill-color: #FFFFFF;\n",
              "      --disabled-bg-color: #3B4455;\n",
              "      --disabled-fill-color: #666;\n",
              "  }\n",
              "\n",
              "  .colab-df-quickchart {\n",
              "    background-color: var(--bg-color);\n",
              "    border: none;\n",
              "    border-radius: 50%;\n",
              "    cursor: pointer;\n",
              "    display: none;\n",
              "    fill: var(--fill-color);\n",
              "    height: 32px;\n",
              "    padding: 0;\n",
              "    width: 32px;\n",
              "  }\n",
              "\n",
              "  .colab-df-quickchart:hover {\n",
              "    background-color: var(--hover-bg-color);\n",
              "    box-shadow: 0 1px 2px rgba(60, 64, 67, 0.3), 0 1px 3px 1px rgba(60, 64, 67, 0.15);\n",
              "    fill: var(--button-hover-fill-color);\n",
              "  }\n",
              "\n",
              "  .colab-df-quickchart-complete:disabled,\n",
              "  .colab-df-quickchart-complete:disabled:hover {\n",
              "    background-color: var(--disabled-bg-color);\n",
              "    fill: var(--disabled-fill-color);\n",
              "    box-shadow: none;\n",
              "  }\n",
              "\n",
              "  .colab-df-spinner {\n",
              "    border: 2px solid var(--fill-color);\n",
              "    border-color: transparent;\n",
              "    border-bottom-color: var(--fill-color);\n",
              "    animation:\n",
              "      spin 1s steps(1) infinite;\n",
              "  }\n",
              "\n",
              "  @keyframes spin {\n",
              "    0% {\n",
              "      border-color: transparent;\n",
              "      border-bottom-color: var(--fill-color);\n",
              "      border-left-color: var(--fill-color);\n",
              "    }\n",
              "    20% {\n",
              "      border-color: transparent;\n",
              "      border-left-color: var(--fill-color);\n",
              "      border-top-color: var(--fill-color);\n",
              "    }\n",
              "    30% {\n",
              "      border-color: transparent;\n",
              "      border-left-color: var(--fill-color);\n",
              "      border-top-color: var(--fill-color);\n",
              "      border-right-color: var(--fill-color);\n",
              "    }\n",
              "    40% {\n",
              "      border-color: transparent;\n",
              "      border-right-color: var(--fill-color);\n",
              "      border-top-color: var(--fill-color);\n",
              "    }\n",
              "    60% {\n",
              "      border-color: transparent;\n",
              "      border-right-color: var(--fill-color);\n",
              "    }\n",
              "    80% {\n",
              "      border-color: transparent;\n",
              "      border-right-color: var(--fill-color);\n",
              "      border-bottom-color: var(--fill-color);\n",
              "    }\n",
              "    90% {\n",
              "      border-color: transparent;\n",
              "      border-bottom-color: var(--fill-color);\n",
              "    }\n",
              "  }\n",
              "</style>\n",
              "\n",
              "  <script>\n",
              "    async function quickchart(key) {\n",
              "      const quickchartButtonEl =\n",
              "        document.querySelector('#' + key + ' button');\n",
              "      quickchartButtonEl.disabled = true;  // To prevent multiple clicks.\n",
              "      quickchartButtonEl.classList.add('colab-df-spinner');\n",
              "      try {\n",
              "        const charts = await google.colab.kernel.invokeFunction(\n",
              "            'suggestCharts', [key], {});\n",
              "      } catch (error) {\n",
              "        console.error('Error during call to suggestCharts:', error);\n",
              "      }\n",
              "      quickchartButtonEl.classList.remove('colab-df-spinner');\n",
              "      quickchartButtonEl.classList.add('colab-df-quickchart-complete');\n",
              "    }\n",
              "    (() => {\n",
              "      let quickchartButtonEl =\n",
              "        document.querySelector('#df-fd6b05e1-42fd-4558-9fff-daae896ff178 button');\n",
              "      quickchartButtonEl.style.display =\n",
              "        google.colab.kernel.accessAllowed ? 'block' : 'none';\n",
              "    })();\n",
              "  </script>\n",
              "</div>\n",
              "\n",
              "    </div>\n",
              "  </div>\n"
            ],
            "text/plain": [
              "                                                text  label\n",
              "0  i feel sure that were i placed into a spanish ...      1\n",
              "1  i feel much more comfortable finding those peo...      1\n",
              "2  Why do the religious think an omniscient god n...      7\n",
              "3                                     happy cake day      5\n",
              "4                                     FUCKING DIN!!!      3\n",
              "5  Thank you for the advice. I was thinking it wa...      6\n",
              "6  i feel like there s a reason to buy another to...      3\n",
              "7  I tell myself that but when I’m at 90 I’m like...      8\n",
              "8   Still, it’s legal weed. Sorry, sad [NAME] here..      6\n",
              "9  If someone calls I will text them and say I ca...      8"
            ]
          },
          "execution_count": 7,
          "metadata": {},
          "output_type": "execute_result"
        }
      ],
      "source": [
        "val_data.head(10)"
      ]
    },
    {
      "cell_type": "code",
      "execution_count": 8,
      "metadata": {
        "colab": {
          "base_uri": "https://localhost:8080/"
        },
        "id": "txYjXbYn0AMk",
        "outputId": "2eb6e61b-39cf-45be-feba-34a5998d89b0"
      },
      "outputs": [
        {
          "data": {
            "text/plain": [
              "label_name  label\n",
              "anger       3        5713\n",
              "approval    9        6575\n",
              "confusion   7        4596\n",
              "fear        4        4466\n",
              "gratitude   6        6074\n",
              "joy         1        5362\n",
              "love        2        5467\n",
              "optimism    8        5896\n",
              "sadness     0        7839\n",
              "surprise    5        4881\n",
              "dtype: int64"
            ]
          },
          "execution_count": 8,
          "metadata": {},
          "output_type": "execute_result"
        }
      ],
      "source": [
        "train_data.groupby([\"label_name\",\"label\"]).size()"
      ]
    },
    {
      "cell_type": "code",
      "execution_count": 14,
      "metadata": {
        "colab": {
          "base_uri": "https://localhost:8080/",
          "height": 519
        },
        "id": "6Wqx9Az40GE4",
        "outputId": "d6e8cbbe-d7a1-4709-c92f-2b4029db5c67"
      },
      "outputs": [
        {
          "data": {
            "text/plain": [
              "<Axes: xlabel='label_name'>"
            ]
          },
          "execution_count": 14,
          "metadata": {},
          "output_type": "execute_result"
        },
        {
          "data": {
            "image/png": "[encoded data removed]",
            "text/plain": [
              "<Figure size 640x480 with 1 Axes>"
            ]
          },
          "metadata": {},
          "output_type": "display_data"
        }
      ],
      "source": [
        "train_data[\"label_name\"].value_counts().plot(kind='bar',color=['yellow', '#0c0d49', '#b82f2f', '#331e1e', 'red','#00fff7'])"
      ]
    },
    {
      "cell_type": "code",
      "execution_count": 15,
      "metadata": {
        "colab": {
          "base_uri": "https://localhost:8080/"
        },
        "id": "O_9DClvm0NYW",
        "outputId": "215c1f05-775b-4491-d8c8-5535c1fa3580"
      },
      "outputs": [
        {
          "name": "stdout",
          "output_type": "stream",
          "text": [
            "text          0\n",
            "label         0\n",
            "label_name    0\n",
            "dtype: int64\n",
            "text     0\n",
            "label    0\n",
            "dtype: int64\n",
            "text     0\n",
            "label    0\n",
            "dtype: int64\n"
          ]
        }
      ],
      "source": [
        "print(train_data.isnull().sum())\n",
        "print(val_data.isnull().sum())\n",
        "print(test_data.isnull().sum())"
      ]
    },
    {
      "cell_type": "code",
      "execution_count": 17,
      "metadata": {
        "colab": {
          "base_uri": "https://localhost:8080/"
        },
        "id": "D-I4XofA2dHX",
        "outputId": "cf233824-867e-4f10-969d-b887ec9363da"
      },
      "outputs": [
        {
          "name": "stderr",
          "output_type": "stream",
          "text": [
            "[nltk_data] Downloading package stopwords to /root/nltk_data...\n",
            "[nltk_data]   Unzipping corpora/stopwords.zip.\n"
          ]
        }
      ],
      "source": [
        "import nltk\n",
        "from nltk.corpus import stopwords\n",
        "\n",
        "nltk.download('stopwords')\n",
        "stop_words = set(stopwords.words('english'))"
      ]
    },
    {
      "cell_type": "code",
      "execution_count": 19,
      "metadata": {
        "colab": {
          "base_uri": "https://localhost:8080/"
        },
        "id": "EWrHO6xO0jEG",
        "outputId": "29d7cb81-7d8c-4001-9e8f-a32a0a435ced"
      },
      "outputs": [
        {
          "name": "stdout",
          "output_type": "stream",
          "text": [
            "Number of words without Stemming: 25221\n"
          ]
        }
      ],
      "source": [
        "stemmer = PorterStemmer()\n",
        "from bs4 import BeautifulSoup\n",
        "import re\n",
        "def preprocess_text(text):\n",
        "    tokens = [stemmer.stem(word) for word in text.split() if word not in stop_words]\n",
        "    return \" \".join(tokens)\n",
        "\n",
        "\n",
        "train_data['clean_text'] = train_data['text'].apply(preprocess_text)\n",
        "val_data['clean_text'] = val_data['text'].apply(preprocess_text)\n",
        "test_data['clean_text'] = test_data['text'].apply(preprocess_text)\n",
        "\n",
        "\n",
        "all_texts = train_data['clean_text'].tolist() + test_data['clean_text'].tolist() + val_data['clean_text'].tolist()\n",
        "tokenizer = Tokenizer(num_words=20000)\n",
        "tokenizer.fit_on_texts(all_texts)\n",
        "word_index = tokenizer.word_index\n",
        "print(f\"Number of words without Stemming: {len(word_index)}\")\n",
        "\n",
        "def preprocess_data(data):\n",
        "    processed_data = []\n",
        "    for _, row in data.iterrows():\n",
        "        sequence = tokenizer.texts_to_sequences([row['clean_text'].split()])[0]\n",
        "        processed_data.append([sequence, row['label']])\n",
        "    return processed_data"
      ]
    },
    {
      "cell_type": "code",
      "execution_count": 20,
      "metadata": {
        "id": "vHxcSdSgLktl"
      },
      "outputs": [],
      "source": [
        "from collections import Counter\n",
        "\n",
        "def counter_word(text_col):\n",
        "    count = Counter()\n",
        "    for clean_text in text_col.values:\n",
        "        for word in clean_text.split():\n",
        "            count[word] += 1\n",
        "    return count\n",
        "\n",
        "\n",
        "counter = counter_word(train_data.clean_text)"
      ]
    },
    {
      "cell_type": "code",
      "execution_count": 21,
      "metadata": {
        "colab": {
          "base_uri": "https://localhost:8080/"
        },
        "id": "Ri1hSCtgLuzY",
        "outputId": "be62b4b2-213b-4424-d61b-fc9190626c59"
      },
      "outputs": [
        {
          "data": {
            "text/plain": [
              "35871"
            ]
          },
          "execution_count": 21,
          "metadata": {},
          "output_type": "execute_result"
        }
      ],
      "source": [
        "len(counter)"
      ]
    },
    {
      "cell_type": "code",
      "execution_count": 22,
      "metadata": {
        "id": "c8ID9FqiL3Uc"
      },
      "outputs": [],
      "source": [
        "num_unique_words= len(counter)"
      ]
    },
    {
      "cell_type": "code",
      "execution_count": 23,
      "metadata": {
        "colab": {
          "base_uri": "https://localhost:8080/"
        },
        "id": "15ODNGUU0r49",
        "outputId": "3e48bc70-6f5e-426d-b49e-d21d51f5dcea"
      },
      "outputs": [
        {
          "name": "stdout",
          "output_type": "stream",
          "text": [
            "Training set shape: (56869, 35), (56869,)\n",
            "Validation set shape: (8280, 35), (8280,)\n"
          ]
        }
      ],
      "source": [
        "train_data_processed = preprocess_data(train_data)\n",
        "val_data_processed = preprocess_data(val_data)\n",
        "\n",
        "max_seq_length = max(len(seq[0]) for seq in train_data_processed)\n",
        "train_X = pad_sequences([row[0] for row in train_data_processed], maxlen=max_seq_length, padding='post')\n",
        "train_y = np.array([row[1] for row in train_data_processed])\n",
        "\n",
        "val_X = pad_sequences([row[0] for row in val_data_processed], maxlen=max_seq_length, padding='post')\n",
        "val_y = np.array([row[1] for row in val_data_processed])\n",
        "\n",
        "num_classes = 20\n",
        "train_y_one_hot = to_categorical(train_y, num_classes=num_classes)\n",
        "val_y_one_hot = to_categorical(val_y, num_classes=num_classes)\n",
        "print(f\"Training set shape: {train_X.shape}, {train_y.shape}\")\n",
        "print(f\"Validation set shape: {val_X.shape}, {val_y.shape}\")\n"
      ]
    },
    {
      "cell_type": "code",
      "execution_count": 26,
      "metadata": {
        "colab": {
          "base_uri": "https://localhost:8080/"
        },
        "id": "uTHKoKHSavi5",
        "outputId": "4dd3e0fa-0dcd-4001-fd96-813120a28a2e"
      },
      "outputs": [
        {
          "name": "stdout",
          "output_type": "stream",
          "text": [
            "Epoch 1/25\n",
            "1778/1778 [==============================] - 49s 23ms/step - loss: 2.2543 - accuracy: 0.1629 - val_loss: 2.2405 - val_accuracy: 0.1332\n",
            "Epoch 2/25\n",
            "1778/1778 [==============================] - 21s 12ms/step - loss: 2.2403 - accuracy: 0.1694 - val_loss: 2.2825 - val_accuracy: 0.1271\n",
            "Epoch 3/25\n",
            "1778/1778 [==============================] - 22s 12ms/step - loss: 2.2241 - accuracy: 0.1659 - val_loss: 2.0647 - val_accuracy: 0.1772\n",
            "Epoch 4/25\n",
            "1778/1778 [==============================] - 21s 12ms/step - loss: 1.8749 - accuracy: 0.2866 - val_loss: 1.6535 - val_accuracy: 0.3707\n",
            "Epoch 5/25\n",
            "1778/1778 [==============================] - 21s 12ms/step - loss: 1.4977 - accuracy: 0.4691 - val_loss: 1.4661 - val_accuracy: 0.4923\n",
            "Epoch 6/25\n",
            "1778/1778 [==============================] - 19s 11ms/step - loss: 1.3126 - accuracy: 0.5450 - val_loss: 1.4396 - val_accuracy: 0.5087\n",
            "Epoch 7/25\n",
            "1778/1778 [==============================] - 19s 11ms/step - loss: 1.1918 - accuracy: 0.6064 - val_loss: 1.3432 - val_accuracy: 0.5579\n",
            "Epoch 8/25\n",
            "1778/1778 [==============================] - 20s 11ms/step - loss: 1.0829 - accuracy: 0.6518 - val_loss: 1.3569 - val_accuracy: 0.5800\n",
            "Epoch 9/25\n",
            "1778/1778 [==============================] - 19s 11ms/step - loss: 1.0058 - accuracy: 0.6789 - val_loss: 1.3198 - val_accuracy: 0.5918\n",
            "Epoch 10/25\n",
            "1778/1778 [==============================] - 21s 12ms/step - loss: 0.9430 - accuracy: 0.7033 - val_loss: 1.3514 - val_accuracy: 0.5989\n",
            "Epoch 11/25\n",
            "1778/1778 [==============================] - 19s 11ms/step - loss: 0.8872 - accuracy: 0.7206 - val_loss: 1.3516 - val_accuracy: 0.5935\n",
            "Epoch 12/25\n",
            "1778/1778 [==============================] - 19s 11ms/step - loss: 0.8437 - accuracy: 0.7349 - val_loss: 1.3816 - val_accuracy: 0.6062\n",
            "Epoch 13/25\n",
            "1778/1778 [==============================] - 20s 11ms/step - loss: 0.8042 - accuracy: 0.7471 - val_loss: 1.3489 - val_accuracy: 0.6146\n",
            "Epoch 14/25\n",
            "1778/1778 [==============================] - 20s 11ms/step - loss: 0.7723 - accuracy: 0.7553 - val_loss: 1.3701 - val_accuracy: 0.6176\n",
            "Epoch 15/25\n",
            "1778/1778 [==============================] - 20s 11ms/step - loss: 0.7409 - accuracy: 0.7657 - val_loss: 1.4082 - val_accuracy: 0.6226\n",
            "Epoch 16/25\n",
            "1778/1778 [==============================] - 19s 11ms/step - loss: 0.7130 - accuracy: 0.7718 - val_loss: 1.3820 - val_accuracy: 0.6333\n",
            "Epoch 17/25\n",
            "1778/1778 [==============================] - 19s 11ms/step - loss: 0.6874 - accuracy: 0.7794 - val_loss: 1.4067 - val_accuracy: 0.6262\n",
            "Epoch 18/25\n",
            "1778/1778 [==============================] - 20s 11ms/step - loss: 0.6690 - accuracy: 0.7837 - val_loss: 1.4279 - val_accuracy: 0.6312\n",
            "Epoch 19/25\n",
            "1778/1778 [==============================] - 19s 11ms/step - loss: 0.6487 - accuracy: 0.7899 - val_loss: 1.4734 - val_accuracy: 0.6344\n",
            "Epoch 20/25\n",
            "1778/1778 [==============================] - 20s 11ms/step - loss: 0.6301 - accuracy: 0.7934 - val_loss: 1.3983 - val_accuracy: 0.6339\n",
            "Epoch 21/25\n",
            "1778/1778 [==============================] - 19s 11ms/step - loss: 0.6163 - accuracy: 0.7970 - val_loss: 1.4962 - val_accuracy: 0.6371\n",
            "Epoch 22/25\n",
            "1778/1778 [==============================] - 21s 12ms/step - loss: 0.5972 - accuracy: 0.8024 - val_loss: 1.5835 - val_accuracy: 0.6335\n",
            "Epoch 23/25\n",
            "1778/1778 [==============================] - 19s 11ms/step - loss: 0.5874 - accuracy: 0.8045 - val_loss: 1.4872 - val_accuracy: 0.6332\n",
            "Epoch 24/25\n",
            "1778/1778 [==============================] - 19s 11ms/step - loss: 0.5697 - accuracy: 0.8095 - val_loss: 1.5320 - val_accuracy: 0.6364\n",
            "Epoch 25/25\n",
            "1778/1778 [==============================] - 20s 11ms/step - loss: 0.5596 - accuracy: 0.8106 - val_loss: 1.5186 - val_accuracy: 0.6396\n"
          ]
        }
      ],
      "source": [
        "model = Sequential([\n",
        "    Embedding(input_dim=20000, output_dim=100, input_length=max_seq_length),\n",
        "    Bidirectional(LSTM(128, return_sequences=True)),\n",
        "    Dropout(0.3),\n",
        "    LSTM(64),\n",
        "    Dropout(0.3),\n",
        "    Dense(num_classes, activation='softmax')\n",
        "])\n",
        "\n",
        "optimizer = Adam(learning_rate=0.003)\n",
        "model.compile(loss='categorical_crossentropy', optimizer=optimizer, metrics=['accuracy'])\n",
        "\n",
        "history = model.fit(train_X, train_y_one_hot, epochs=25, validation_data=(val_X, val_y_one_hot), verbose=1)"
      ]
    },
    {
      "cell_type": "code",
      "execution_count": 27,
      "metadata": {
        "id": "Yt0-SmlCBqMG"
      },
      "outputs": [],
      "source": [
        "labels_dict = {i: name for i, name in enumerate(train_data['label_name'].unique())}"
      ]
    },
    {
      "cell_type": "code",
      "execution_count": 51,
      "metadata": {
        "colab": {
          "base_uri": "https://localhost:8080/"
        },
        "id": "IHS6HfK8BG6X",
        "outputId": "4bff6e9a-f00c-4c8b-bb22-07b0a1e45cf9"
      },
      "outputs": [
        {
          "name": "stdout",
          "output_type": "stream",
          "text": [
            "1/1 [==============================] - 0s 21ms/step\n",
            "\n",
            "Predicted: love, Actual: love\n",
            "1/1 [==============================] - 0s 19ms/step\n",
            "\n",
            "Predicted: anger, Actual: optimism\n",
            "1/1 [==============================] - 0s 19ms/step\n",
            "\n",
            "Predicted: joy, Actual: gratitude\n",
            "1/1 [==============================] - 0s 18ms/step\n",
            "\n",
            "Predicted: sadness, Actual: anger\n",
            "1/1 [==============================] - 0s 18ms/step\n",
            "\n",
            "Predicted: sadness, Actual: surprise\n",
            "222/222 [==============================] - 1s 4ms/step\n"
          ]
        }
      ],
      "source": [
        "#predict on test data\n",
        "def predict_text(text):\n",
        "    sequence = tokenizer.texts_to_sequences([preprocess_text(text).split()])[0]\n",
        "    sequence_padded = pad_sequences([sequence], maxlen=max_seq_length, padding='post')\n",
        "    prediction = model.predict(sequence_padded)\n",
        "    return np.argmax(prediction)\n",
        "\n",
        "\n",
        "for _ in range(5):\n",
        "    index = random.randint(0, len(test_data) - 1)\n",
        "    predicted_class = predict_text(test_data['text'][index])\n",
        "    actual_class = test_data['label'][index]\n",
        "    print(f\"\\nPredicted: {labels_dict[predicted_class]}, Actual: {labels_dict[actual_class]}\")\n",
        "\n",
        "test_data_processed = preprocess_data(test_data)\n",
        "test_X = pad_sequences([row[0] for row in test_data_processed], maxlen=max_seq_length, padding='post')\n",
        "test_y = np.array([row[1] for row in test_data_processed])\n",
        "\n",
        "test_y_one_hot = to_categorical(test_y, num_classes=num_classes)\n",
        "\n",
        "y_pred = model.predict(test_X)\n",
        "y_pred_classes = np.argmax(y_pred, axis=1)\n"
      ]
    },
    {
      "cell_type": "code",
      "execution_count": 39,
      "metadata": {
        "colab": {
          "base_uri": "https://localhost:8080/",
          "height": 472
        },
        "id": "sJn5-g6JCbU9",
        "outputId": "e085a00c-8d54-4208-91c5-f83891673697"
      },
      "outputs": [
        {
          "data": {
            "image/png": "[encoded data removed]",
            "text/plain": [
              "<Figure size 640x480 with 1 Axes>"
            ]
          },
          "metadata": {},
          "output_type": "display_data"
        }
      ],
      "source": [
        "plt.plot(history.history['accuracy'], label='Train Accuracy')\n",
        "plt.plot(history.history['val_accuracy'], label='Validation Accuracy')\n",
        "plt.title('Training vs Validation Accuracy')\n",
        "plt.xlabel('Epochs')\n",
        "plt.ylabel('Accuracy')\n",
        "plt.legend()\n",
        "plt.show()\n",
        "\n"
      ]
    },
    {
      "cell_type": "code",
      "execution_count": 40,
      "metadata": {
        "colab": {
          "base_uri": "https://localhost:8080/",
          "height": 472
        },
        "id": "llhL8UAThzZH",
        "outputId": "3c3f64e8-895b-4b04-ff09-77dbc5f4951a"
      },
      "outputs": [
        {
          "data": {
            "image/png": "[encoded data removed]",
            "text/plain": [
              "<Figure size 640x480 with 1 Axes>"
            ]
          },
          "metadata": {},
          "output_type": "display_data"
        }
      ],
      "source": [
        "plt.plot(history.history['loss'], label='Train Loss')\n",
        "plt.plot(history.history['val_loss'], label='Validation Loss')\n",
        "plt.title('Training vs Validation Loss')\n",
        "plt.xlabel('Epochs')\n",
        "plt.ylabel('Loss')\n",
        "plt.legend()\n",
        "plt.show()"
      ]
    },
    {
      "cell_type": "code",
      "execution_count": 30,
      "metadata": {
        "colab": {
          "base_uri": "https://localhost:8080/",
          "height": 525
        },
        "id": "DfQQA44RChLb",
        "outputId": "5324d4be-e782-40f8-db66-8a735657322b"
      },
      "outputs": [
        {
          "data": {
            "image/png": "[encoded data removed]",
            "text/plain": [
              "<Figure size 640x480 with 1 Axes>"
            ]
          },
          "metadata": {},
          "output_type": "display_data"
        }
      ],
      "source": [
        "cm = confusion_matrix(test_y, y_pred_classes)\n",
        "df_cm = pd.DataFrame(cm, index=labels_dict.values(), columns=labels_dict.values())\n",
        "ax = sns.heatmap(df_cm, annot=True, fmt='d', square=True, cbar=False, cmap='Blues')\n",
        "plt.xlabel('Predicted')\n",
        "plt.ylabel('Actual')\n",
        "plt.title('Confusion Matrix')\n",
        "plt.show()"
      ]
    },
    {
      "cell_type": "code",
      "execution_count": 41,
      "metadata": {
        "colab": {
          "base_uri": "https://localhost:8080/"
        },
        "id": "wn9Ki0SseGzV",
        "outputId": "331d7c15-9c5d-4256-96a1-9090bc135fee"
      },
      "outputs": [
        {
          "name": "stdout",
          "output_type": "stream",
          "text": [
            "222/222 [==============================] - 1s 6ms/step - loss: 0.9631 - accuracy: 0.7339\n",
            "Test Accuracy: 0.7339\n"
          ]
        }
      ],
      "source": [
        "test_data_processed = preprocess_data(test_data)\n",
        "\n",
        "test_X = pad_sequences([row[0] for row in test_data_processed], maxlen=max_seq_length, padding='post')\n",
        "test_y = np.array([row[1] for row in test_data_processed])\n",
        "\n",
        "test_y_one_hot = to_categorical(test_y, num_classes=num_classes)\n",
        "\n",
        "test_loss, test_accuracy = model.evaluate(test_X, test_y_one_hot)\n",
        "print(f\"Test Accuracy: {test_accuracy:.4f}\")\n"
      ]
    }
  ],
  "metadata": {
    "colab": {
      "provenance": []
    },
    "kernelspec": {
      "display_name": "Python 3",
      "name": "python3"
    },
    "language_info": {
      "name": "python"
    }
  },
  "nbformat": 4,
  "nbformat_minor": 0
}
